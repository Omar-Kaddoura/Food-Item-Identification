{
  "cells": [
    {
      "cell_type": "markdown",
      "metadata": {
        "id": "CN39_0t0Sr-5"
      },
      "source": [
        "# **III. Convolutional neural networks**"
      ]
    },
    {
      "cell_type": "code",
      "execution_count": 6,
      "metadata": {
        "id": "HEVS_WJaBNge"
      },
      "outputs": [],
      "source": [
        "\n",
        "\n",
        "import os\n",
        "import numpy as np\n",
        "import shutil\n",
        "import tensorflow as tf\n",
        "import pickle as pkl\n",
        "from tensorflow.keras.models import Sequential\n",
        "from tensorflow.keras.layers import Conv2D, MaxPooling2D, Flatten, Dense, Dropout\n",
        "from tensorflow.keras.preprocessing.image import ImageDataGenerator\n",
        "from tensorflow.keras.callbacks import EarlyStopping"
      ]
    },
    {
      "cell_type": "code",
      "execution_count": 13,
      "metadata": {
        "colab": {
          "base_uri": "https://localhost:8080/"
        },
        "id": "pDU3Z9cF7lsH",
        "outputId": "a651527c-69e6-44f3-e833-e7eac719ff27"
      },
      "outputs": [
        {
          "ename": "FileNotFoundError",
          "evalue": "[WinError 3] The system cannot find the path specified: 'C:/Spring 2023-2024/CMPS 261/Food Item Identification/project datasets\\\\1'",
          "output_type": "error",
          "traceback": [
            "\u001b[1;31m---------------------------------------------------------------------------\u001b[0m",
            "\u001b[1;31mFileNotFoundError\u001b[0m                         Traceback (most recent call last)",
            "Cell \u001b[1;32mIn[13], line 6\u001b[0m\n\u001b[0;32m      4\u001b[0m category_dir \u001b[38;5;241m=\u001b[39m os\u001b[38;5;241m.\u001b[39mpath\u001b[38;5;241m.\u001b[39mjoin(data_dir, \u001b[38;5;28mstr\u001b[39m(i))\n\u001b[0;32m      5\u001b[0m \u001b[38;5;66;03m# Get a list of images in the category directory\u001b[39;00m\n\u001b[1;32m----> 6\u001b[0m images \u001b[38;5;241m=\u001b[39m \u001b[43mos\u001b[49m\u001b[38;5;241;43m.\u001b[39;49m\u001b[43mlistdir\u001b[49m\u001b[43m(\u001b[49m\u001b[43mcategory_dir\u001b[49m\u001b[43m)\u001b[49m\n\u001b[0;32m      7\u001b[0m \u001b[38;5;66;03m# If there are images in the category directory\u001b[39;00m\n\u001b[0;32m      8\u001b[0m \u001b[38;5;28;01mif\u001b[39;00m images:\n\u001b[0;32m      9\u001b[0m     \u001b[38;5;66;03m# Choose a random image from the list\u001b[39;00m\n",
            "\u001b[1;31mFileNotFoundError\u001b[0m: [WinError 3] The system cannot find the path specified: 'C:/Spring 2023-2024/CMPS 261/Food Item Identification/project datasets\\\\1'"
          ]
        }
      ],
      "source": [
        "\n",
        "data_dir = r\"C:/Spring 2023-2024/CMPS 261/Food Item Identification/project datasets\"\n",
        "\n"
      ]
    },
    {
      "cell_type": "code",
      "execution_count": null,
      "metadata": {
        "id": "4ibbHc3iZTz4"
      },
      "outputs": [],
      "source": [
        "\n",
        "def verify_images(folder_path):\n",
        "    for fname in os.listdir(folder_path):\n",
        "        fpath = os.path.join(folder_path, fname)\n",
        "        try:\n",
        "            img = tf.io.read_file(fpath)\n",
        "            img = tf.io.decode_image(img)\n",
        "        except:\n",
        "            print(f'Removing corrupted image: {fpath}')\n",
        "            os.remove(fpath)\n",
        "\n",
        "for i in range(1, 10):\n",
        "    verify_images(os.path.join(data_dir, str(i)))\n",
        "\n",
        "\n",
        "sets = ['train', 'val', 'test']\n",
        "for s in sets:\n",
        "    set_path = os.path.join(data_dir, s)\n",
        "    if not os.path.exists(set_path):\n",
        "        os.makedirs(set_path)\n",
        "    for i in range(1, 10):\n",
        "        class_path = os.path.join(set_path, str(i))\n",
        "        if not os.path.exists(class_path):\n",
        "            os.makedirs(class_path)\n",
        "\n",
        "\n",
        "def split_data(source, dest_train, dest_val, dest_test, split_train=0.8, split_val=0.1):\n",
        "    files = os.listdir(source)\n",
        "    np.random.shuffle(files)\n",
        "    train_idx = int(len(files) * split_train)\n",
        "    val_idx = int(len(files) * (split_train + split_val))\n",
        "    for file in files[:train_idx]:\n",
        "        shutil.copy(os.path.join(source, file), os.path.join(dest_train, file))\n",
        "    for file in files[train_idx:val_idx]:\n",
        "        shutil.copy(os.path.join(source, file), os.path.join(dest_val, file))\n",
        "    for file in files[val_idx:]:\n",
        "        shutil.copy(os.path.join(source, file), os.path.join(dest_test, file))\n",
        "\n",
        "\n",
        "for i in range(1, 10):\n",
        "    src_folder = os.path.join(data_dir, str(i))\n",
        "    train_folder = os.path.join(data_dir, 'train', str(i))\n",
        "    val_folder = os.path.join(data_dir, 'val', str(i))\n",
        "    test_folder = os.path.join(data_dir, 'test', str(i))\n",
        "    split_data(src_folder, train_folder, val_folder, test_folder)\n"
      ]
    },
    {
      "cell_type": "code",
      "execution_count": null,
      "metadata": {
        "colab": {
          "base_uri": "https://localhost:8080/"
        },
        "id": "CkGun2qFaK-x",
        "outputId": "765e3ef4-afee-4b78-fa11-7601e1d30085"
      },
      "outputs": [
        {
          "name": "stdout",
          "output_type": "stream",
          "text": [
            "Found 4950 images belonging to 9 classes.\n",
            "Found 984 images belonging to 9 classes.\n",
            "Epoch 1/50\n",
            "\u001b[1m154/154\u001b[0m \u001b[32m━━━━━━━━━━━━━━━━━━━━\u001b[0m\u001b[37m\u001b[0m \u001b[1m371s\u001b[0m 2s/step - accuracy: 0.3403 - loss: 1.8998 - val_accuracy: 0.5729 - val_loss: 1.2209\n",
            "Epoch 2/50\n",
            "\u001b[1m154/154\u001b[0m \u001b[32m━━━━━━━━━━━━━━━━━━━━\u001b[0m\u001b[37m\u001b[0m \u001b[1m2s\u001b[0m 2ms/step - accuracy: 0.3750 - loss: 1.6413 - val_accuracy: 0.7083 - val_loss: 0.9884\n",
            "Epoch 3/50\n",
            "\u001b[1m154/154\u001b[0m \u001b[32m━━━━━━━━━━━━━━━━━━━━\u001b[0m\u001b[37m\u001b[0m \u001b[1m369s\u001b[0m 2s/step - accuracy: 0.5951 - loss: 1.1131 - val_accuracy: 0.7385 - val_loss: 0.7650\n",
            "Epoch 4/50\n",
            "\u001b[1m154/154\u001b[0m \u001b[32m━━━━━━━━━━━━━━━━━━━━\u001b[0m\u001b[37m\u001b[0m \u001b[1m3s\u001b[0m 2ms/step - accuracy: 0.7188 - loss: 0.8720 - val_accuracy: 0.7500 - val_loss: 0.7374\n",
            "Epoch 5/50\n",
            "\u001b[1m154/154\u001b[0m \u001b[32m━━━━━━━━━━━━━━━━━━━━\u001b[0m\u001b[37m\u001b[0m \u001b[1m381s\u001b[0m 2s/step - accuracy: 0.7263 - loss: 0.7609 - val_accuracy: 0.8125 - val_loss: 0.5350\n",
            "Epoch 6/50\n",
            "\u001b[1m154/154\u001b[0m \u001b[32m━━━━━━━━━━━━━━━━━━━━\u001b[0m\u001b[37m\u001b[0m \u001b[1m2s\u001b[0m 2ms/step - accuracy: 0.7188 - loss: 1.0499 - val_accuracy: 0.7083 - val_loss: 1.0054\n",
            "Epoch 7/50\n",
            "\u001b[1m154/154\u001b[0m \u001b[32m━━━━━━━━━━━━━━━━━━━━\u001b[0m\u001b[37m\u001b[0m \u001b[1m360s\u001b[0m 2s/step - accuracy: 0.8075 - loss: 0.5701 - val_accuracy: 0.8771 - val_loss: 0.4062\n",
            "Epoch 8/50\n",
            "\u001b[1m154/154\u001b[0m \u001b[32m━━━━━━━━━━━━━━━━━━━━\u001b[0m\u001b[37m\u001b[0m \u001b[1m2s\u001b[0m 2ms/step - accuracy: 0.9062 - loss: 0.3394 - val_accuracy: 0.9167 - val_loss: 0.3233\n",
            "Epoch 9/50\n",
            "\u001b[1m154/154\u001b[0m \u001b[32m━━━━━━━━━━━━━━━━━━━━\u001b[0m\u001b[37m\u001b[0m \u001b[1m367s\u001b[0m 2s/step - accuracy: 0.8652 - loss: 0.3785 - val_accuracy: 0.9104 - val_loss: 0.3104\n",
            "Epoch 10/50\n",
            "\u001b[1m154/154\u001b[0m \u001b[32m━━━━━━━━━━━━━━━━━━━━\u001b[0m\u001b[37m\u001b[0m \u001b[1m2s\u001b[0m 2ms/step - accuracy: 0.9062 - loss: 0.1988 - val_accuracy: 0.9583 - val_loss: 0.2365\n",
            "Epoch 11/50\n",
            "\u001b[1m154/154\u001b[0m \u001b[32m━━━━━━━━━━━━━━━━━━━━\u001b[0m\u001b[37m\u001b[0m \u001b[1m372s\u001b[0m 2s/step - accuracy: 0.9005 - loss: 0.2973 - val_accuracy: 0.9292 - val_loss: 0.2593\n",
            "Epoch 12/50\n",
            "\u001b[1m154/154\u001b[0m \u001b[32m━━━━━━━━━━━━━━━━━━━━\u001b[0m\u001b[37m\u001b[0m \u001b[1m16s\u001b[0m 93ms/step - accuracy: 0.9688 - loss: 0.2383 - val_accuracy: 0.9167 - val_loss: 0.1687\n",
            "Epoch 13/50\n",
            "\u001b[1m154/154\u001b[0m \u001b[32m━━━━━━━━━━━━━━━━━━━━\u001b[0m\u001b[37m\u001b[0m \u001b[1m362s\u001b[0m 2s/step - accuracy: 0.9351 - loss: 0.1911 - val_accuracy: 0.9417 - val_loss: 0.2342\n",
            "Epoch 14/50\n",
            "\u001b[1m154/154\u001b[0m \u001b[32m━━━━━━━━━━━━━━━━━━━━\u001b[0m\u001b[37m\u001b[0m \u001b[1m2s\u001b[0m 2ms/step - accuracy: 0.8750 - loss: 0.3233 - val_accuracy: 1.0000 - val_loss: 0.0848\n",
            "Epoch 15/50\n",
            "\u001b[1m154/154\u001b[0m \u001b[32m━━━━━━━━━━━━━━━━━━━━\u001b[0m\u001b[37m\u001b[0m \u001b[1m367s\u001b[0m 2s/step - accuracy: 0.9520 - loss: 0.1519 - val_accuracy: 0.9542 - val_loss: 0.1806\n",
            "Epoch 16/50\n",
            "\u001b[1m154/154\u001b[0m \u001b[32m━━━━━━━━━━━━━━━━━━━━\u001b[0m\u001b[37m\u001b[0m \u001b[1m2s\u001b[0m 2ms/step - accuracy: 0.9062 - loss: 0.1855 - val_accuracy: 0.9167 - val_loss: 0.2812\n",
            "Epoch 17/50\n",
            "\u001b[1m154/154\u001b[0m \u001b[32m━━━━━━━━━━━━━━━━━━━━\u001b[0m\u001b[37m\u001b[0m \u001b[1m371s\u001b[0m 2s/step - accuracy: 0.9672 - loss: 0.1066 - val_accuracy: 0.9646 - val_loss: 0.1830\n",
            "Epoch 18/50\n",
            "\u001b[1m154/154\u001b[0m \u001b[32m━━━━━━━━━━━━━━━━━━━━\u001b[0m\u001b[37m\u001b[0m \u001b[1m2s\u001b[0m 2ms/step - accuracy: 1.0000 - loss: 0.0524 - val_accuracy: 0.9583 - val_loss: 0.0922\n",
            "Epoch 19/50\n",
            "\u001b[1m154/154\u001b[0m \u001b[32m━━━━━━━━━━━━━━━━━━━━\u001b[0m\u001b[37m\u001b[0m \u001b[1m356s\u001b[0m 2s/step - accuracy: 0.9657 - loss: 0.0965 - val_accuracy: 0.9615 - val_loss: 0.1765\n",
            "Epoch 20/50\n",
            "\u001b[1m154/154\u001b[0m \u001b[32m━━━━━━━━━━━━━━━━━━━━\u001b[0m\u001b[37m\u001b[0m \u001b[1m2s\u001b[0m 2ms/step - accuracy: 0.9688 - loss: 0.1077 - val_accuracy: 0.9583 - val_loss: 0.3459\n",
            "Epoch 21/50\n",
            "\u001b[1m154/154\u001b[0m \u001b[32m━━━━━━━━━━━━━━━━━━━━\u001b[0m\u001b[37m\u001b[0m \u001b[1m379s\u001b[0m 2s/step - accuracy: 0.9784 - loss: 0.0745 - val_accuracy: 0.9552 - val_loss: 0.2026\n",
            "Epoch 22/50\n",
            "\u001b[1m154/154\u001b[0m \u001b[32m━━━━━━━━━━━━━━━━━━━━\u001b[0m\u001b[37m\u001b[0m \u001b[1m3s\u001b[0m 3ms/step - accuracy: 0.9688 - loss: 0.0747 - val_accuracy: 0.9583 - val_loss: 0.1810\n",
            "Epoch 23/50\n",
            "\u001b[1m154/154\u001b[0m \u001b[32m━━━━━━━━━━━━━━━━━━━━\u001b[0m\u001b[37m\u001b[0m \u001b[1m377s\u001b[0m 2s/step - accuracy: 0.9833 - loss: 0.0593 - val_accuracy: 0.9615 - val_loss: 0.1971\n",
            "Epoch 24/50\n",
            "\u001b[1m154/154\u001b[0m \u001b[32m━━━━━━━━━━━━━━━━━━━━\u001b[0m\u001b[37m\u001b[0m \u001b[1m2s\u001b[0m 2ms/step - accuracy: 0.9375 - loss: 0.1742 - val_accuracy: 0.9583 - val_loss: 0.1099\n"
          ]
        }
      ],
      "source": [
        "\n",
        "model = Sequential([\n",
        "    Conv2D(32, (3,3), activation='relu', input_shape=(150, 150, 3)),  \n",
        "    MaxPooling2D(2, 2),  \n",
        "    Conv2D(64, (3,3), activation='relu'),  \n",
        "    MaxPooling2D(2, 2), \n",
        "    Conv2D(128, (3,3), activation='relu'), \n",
        "    MaxPooling2D(2, 2),  \n",
        "    Flatten(),  \n",
        "    Dense(512, activation='relu'),  \n",
        "    Dropout(0.5), \n",
        "    Dense(9, activation='softmax')  \n",
        "])\n",
        "\n",
        "\n",
        "model.compile(optimizer='adam', loss='categorical_crossentropy', metrics=['accuracy'])\n",
        "\n",
        "train_datagen = ImageDataGenerator(rescale=1./255)\n",
        "val_datagen = ImageDataGenerator(rescale=1./255) \n",
        "\n",
        "\n",
        "train_generator = train_datagen.flow_from_directory(\n",
        "    os.path.join(data_dir, 'train'), \n",
        "    target_size=(150, 150),  \n",
        "    batch_size=32,  \n",
        "    class_mode='categorical' \n",
        ")\n",
        "\n",
        "\n",
        "val_generator = val_datagen.flow_from_directory(\n",
        "    os.path.join(data_dir, 'val'),  \n",
        "    target_size=(150, 150),  \n",
        "    batch_size=32, \n",
        "    class_mode='categorical'  \n",
        ")\n",
        "\n",
        "\n",
        "\n",
        "early_stopping = EarlyStopping(monitor='val_loss', patience=10)  \n",
        "\n",
        "\n",
        "\n",
        "steps_per_epoch = len(train_generator.filenames) // train_generator.batch_size  \n",
        "validation_steps = len(val_generator.filenames) // val_generator.batch_size  \n",
        "\n",
        "\n",
        "# Train the model\n",
        "history = model.fit(\n",
        "    train_generator,  \n",
        "    steps_per_epoch=steps_per_epoch, \n",
        "    epochs=50,  \n",
        "    validation_data=val_generator, \n",
        "    validation_steps=validation_steps,  \n",
        "    callbacks=[early_stopping]  \n",
        ")\n",
        "model_path = os.path.join('/content/drive/MyDrive', 'best_model.pkl')\n",
        "pickle.dump(best_model, open(model_path, 'wb'))\n"
      ]
    },
    {
      "cell_type": "code",
      "execution_count": null,
      "metadata": {
        "colab": {
          "base_uri": "https://localhost:8080/"
        },
        "id": "mPZRsNVNxgTu",
        "outputId": "455cb588-ef6a-47a9-da8c-164d6f9785ca"
      },
      "outputs": [
        {
          "name": "stdout",
          "output_type": "stream",
          "text": [
            "Found 972 images belonging to 9 classes.\n",
            "\u001b[1m31/31\u001b[0m \u001b[32m━━━━━━━━━━━━━━━━━━━━\u001b[0m\u001b[37m\u001b[0m \u001b[1m24s\u001b[0m 736ms/step - accuracy: 0.9529 - loss: 0.1787\n",
            "Test accuracy: 0.9578189253807068\n"
          ]
        }
      ],
      "source": [
        "\n",
        "test_datagen = ImageDataGenerator(rescale=1./255)\n",
        "test_generator = test_datagen.flow_from_directory(\n",
        "    os.path.join(data_dir, 'test'),\n",
        "    target_size=(150, 150),\n",
        "    batch_size=32,\n",
        "    class_mode='categorical'\n",
        ")\n",
        "\n",
        "test_loss, test_acc = model.evaluate(test_generator)\n",
        "print(f'Test accuracy: {test_acc}')\n",
        "\n"
      ]
    }
  ],
  "metadata": {
    "colab": {
      "provenance": []
    },
    "kernelspec": {
      "display_name": "Python 3",
      "name": "python3"
    },
    "language_info": {
      "codemirror_mode": {
        "name": "ipython",
        "version": 3
      },
      "file_extension": ".py",
      "mimetype": "text/x-python",
      "name": "python",
      "nbconvert_exporter": "python",
      "pygments_lexer": "ipython3",
      "version": "3.11.9"
    }
  },
  "nbformat": 4,
  "nbformat_minor": 0
}
